{
 "cells": [
  {
   "cell_type": "markdown",
   "id": "25d7736c-ba17-4aff-b6bb-66eba20fbf4e",
   "metadata": {},
   "source": [
    "# Lab | Pandas"
   ]
  },
  {
   "cell_type": "markdown",
   "id": "d1973e9e-8be6-4039-b70e-d73ee0d94c99",
   "metadata": {},
   "source": [
    "In this lab, we will be working with the customer data from an insurance company, which can be found in the CSV file located at the following link: https://raw.githubusercontent.com/data-bootcamp-v4/data/main/file1.csv\n",
    "\n",
    "The data includes information such as customer ID, state, gender, education, income, and other variables that can be used to perform various analyses.\n",
    "\n",
    "Throughout the lab, we will be using the pandas library in Python to manipulate and analyze the data. Pandas is a powerful library that provides various data manipulation and analysis tools, including the ability to load and manipulate data from a variety of sources, including CSV files."
   ]
  },
  {
   "cell_type": "markdown",
   "id": "8045146f-f4f7-44d9-8cd9-130d6400c73a",
   "metadata": {},
   "source": [
    "### Data Description\n",
    "\n",
    "- Customer - Customer ID\n",
    "\n",
    "- ST - State where customers live\n",
    "\n",
    "- Gender - Gender of the customer\n",
    "\n",
    "- Education - Background education of customers \n",
    "\n",
    "- Customer Lifetime Value - Customer lifetime value(CLV) is the total revenue the client will derive from their entire relationship with a customer. In other words, is the predicted or calculated value of a customer over their entire duration as a policyholder with the insurance company. It is an estimation of the net profit that the insurance company expects to generate from a customer throughout their relationship with the company. Customer Lifetime Value takes into account factors such as the duration of the customer's policy, premium payments, claim history, renewal likelihood, and potential additional services or products the customer may purchase. It helps insurers assess the long-term profitability and value associated with retaining a particular customer.\n",
    "\n",
    "- Income - Customers income\n",
    "\n",
    "- Monthly Premium Auto - Amount of money the customer pays on a monthly basis as a premium for their auto insurance coverage. It represents the recurring cost that the insured person must pay to maintain their insurance policy and receive coverage for potential damages, accidents, or other covered events related to their vehicle.\n",
    "\n",
    "- Number of Open Complaints - Number of complaints the customer opened\n",
    "\n",
    "- Policy Type - There are three type of policies in car insurance (Corporate Auto, Personal Auto, and Special Auto)\n",
    "\n",
    "- Vehicle Class - Type of vehicle classes that customers have Two-Door Car, Four-Door Car SUV, Luxury SUV, Sports Car, and Luxury Car\n",
    "\n",
    "- Total Claim Amount - the sum of all claims made by the customer. It represents the total monetary value of all approved claims for incidents such as accidents, theft, vandalism, or other covered events.\n"
   ]
  },
  {
   "cell_type": "markdown",
   "id": "3a72419b-20fc-4905-817a-8c83abc59de6",
   "metadata": {},
   "source": [
    "External Resources: https://towardsdatascience.com/filtering-data-frames-in-pandas-b570b1f834b9"
   ]
  },
  {
   "cell_type": "markdown",
   "id": "8f8ece17-e919-4e23-96c0-c7c59778436a",
   "metadata": {},
   "source": [
    "## Challenge 1: Understanding the data\n",
    "\n",
    "In this challenge, you will use pandas to explore a given dataset. Your task is to gain a deep understanding of the data by analyzing its characteristics, dimensions, and statistical properties."
   ]
  },
  {
   "cell_type": "markdown",
   "id": "91437bd5-59a6-49c0-8150-ef0e6e6eb253",
   "metadata": {},
   "source": [
    "- Identify the dimensions of the dataset by determining the number of rows and columns it contains.\n",
    "- Determine the data types of each column and evaluate whether they are appropriate for the nature of the variable. You should also provide suggestions for fixing any incorrect data types.\n",
    "- Identify the number of unique values for each column and determine which columns appear to be categorical. You should also describe the unique values of each categorical column and the range of values for numerical columns, and give your insights.\n",
    "- Compute summary statistics such as mean, median, mode, standard deviation, and quartiles to understand the central tendency and distribution of the data for numerical columns. You should also provide your conclusions based on these summary statistics.\n",
    "- Compute summary statistics for categorical columns and providing your conclusions based on these statistics.\n"
   ]
  },
  {
   "cell_type": "code",
   "execution_count": 6,
   "id": "dd4e8cd8-a6f6-486c-a5c4-1745b0c035f4",
   "metadata": {},
   "outputs": [],
   "source": [
    "import numpy as np\n",
    "import pandas as pd\n",
    "url= 'https://raw.githubusercontent.com/data-bootcamp-v4/data/main/file1.csv'\n",
    "df=pd.read_csv(url)"
   ]
  },
  {
   "cell_type": "code",
   "execution_count": 124,
   "id": "cde1713c-c3d1-4804-90c3-5611e5e654b3",
   "metadata": {},
   "outputs": [
    {
     "data": {
      "text/html": [
       "<div>\n",
       "<style scoped>\n",
       "    .dataframe tbody tr th:only-of-type {\n",
       "        vertical-align: middle;\n",
       "    }\n",
       "\n",
       "    .dataframe tbody tr th {\n",
       "        vertical-align: top;\n",
       "    }\n",
       "\n",
       "    .dataframe thead th {\n",
       "        text-align: right;\n",
       "    }\n",
       "</style>\n",
       "<table border=\"1\" class=\"dataframe\">\n",
       "  <thead>\n",
       "    <tr style=\"text-align: right;\">\n",
       "      <th></th>\n",
       "      <th>Customer</th>\n",
       "      <th>ST</th>\n",
       "      <th>GENDER</th>\n",
       "      <th>Education</th>\n",
       "      <th>Customer Lifetime Value</th>\n",
       "      <th>Income</th>\n",
       "      <th>Monthly Premium Auto</th>\n",
       "      <th>Number of Open Complaints</th>\n",
       "      <th>Policy Type</th>\n",
       "      <th>Vehicle Class</th>\n",
       "      <th>Total Claim Amount</th>\n",
       "    </tr>\n",
       "  </thead>\n",
       "  <tbody>\n",
       "    <tr>\n",
       "      <th>0</th>\n",
       "      <td>RB50392</td>\n",
       "      <td>Washington</td>\n",
       "      <td>NaN</td>\n",
       "      <td>Master</td>\n",
       "      <td>NaN</td>\n",
       "      <td>0.0</td>\n",
       "      <td>1000.0</td>\n",
       "      <td>1/0/00</td>\n",
       "      <td>Personal Auto</td>\n",
       "      <td>Four-Door Car</td>\n",
       "      <td>2.704934</td>\n",
       "    </tr>\n",
       "    <tr>\n",
       "      <th>1</th>\n",
       "      <td>QZ44356</td>\n",
       "      <td>Arizona</td>\n",
       "      <td>F</td>\n",
       "      <td>Bachelor</td>\n",
       "      <td>697953.59%</td>\n",
       "      <td>0.0</td>\n",
       "      <td>94.0</td>\n",
       "      <td>1/0/00</td>\n",
       "      <td>Personal Auto</td>\n",
       "      <td>Four-Door Car</td>\n",
       "      <td>1131.464935</td>\n",
       "    </tr>\n",
       "    <tr>\n",
       "      <th>2</th>\n",
       "      <td>AI49188</td>\n",
       "      <td>Nevada</td>\n",
       "      <td>F</td>\n",
       "      <td>Bachelor</td>\n",
       "      <td>1288743.17%</td>\n",
       "      <td>48767.0</td>\n",
       "      <td>108.0</td>\n",
       "      <td>1/0/00</td>\n",
       "      <td>Personal Auto</td>\n",
       "      <td>Two-Door Car</td>\n",
       "      <td>566.472247</td>\n",
       "    </tr>\n",
       "  </tbody>\n",
       "</table>\n",
       "</div>"
      ],
      "text/plain": [
       "  Customer          ST GENDER Education Customer Lifetime Value   Income  \\\n",
       "0  RB50392  Washington    NaN    Master                     NaN      0.0   \n",
       "1  QZ44356     Arizona      F  Bachelor              697953.59%      0.0   \n",
       "2  AI49188      Nevada      F  Bachelor             1288743.17%  48767.0   \n",
       "\n",
       "   Monthly Premium Auto Number of Open Complaints    Policy Type  \\\n",
       "0                1000.0                    1/0/00  Personal Auto   \n",
       "1                  94.0                    1/0/00  Personal Auto   \n",
       "2                 108.0                    1/0/00  Personal Auto   \n",
       "\n",
       "   Vehicle Class  Total Claim Amount  \n",
       "0  Four-Door Car            2.704934  \n",
       "1  Four-Door Car         1131.464935  \n",
       "2   Two-Door Car          566.472247  "
      ]
     },
     "execution_count": 124,
     "metadata": {},
     "output_type": "execute_result"
    }
   ],
   "source": [
    "df.head(3)"
   ]
  },
  {
   "cell_type": "code",
   "execution_count": 17,
   "id": "6191bccd-deef-4d52-9123-be3f0947dbc1",
   "metadata": {},
   "outputs": [
    {
     "name": "stdout",
     "output_type": "stream",
     "text": [
      "The number of rows of this dataframe is 4008 and for coloumns 11\n"
     ]
    }
   ],
   "source": [
    "#1.Identify the dimensions of the dataset by determining the number of rows and columns it contains.\n",
    "rows=df.shape[0]\n",
    "col=df.shape[1]\n",
    "print(f\"This DataFrame contains {rows} numbers of rows and {col} numbers of columns\")\n"
   ]
  },
  {
   "cell_type": "code",
   "execution_count": 44,
   "id": "7f1db9d8-e744-4187-a46e-cdacbc8963c7",
   "metadata": {},
   "outputs": [
    {
     "name": "stdout",
     "output_type": "stream",
     "text": [
      "Customer                      object\n",
      "ST                            object\n",
      "GENDER                        object\n",
      "Education                     object\n",
      "Customer Lifetime Value       object\n",
      "Income                       float64\n",
      "Monthly Premium Auto         float64\n",
      "Number of Open Complaints     object\n",
      "Policy Type                   object\n",
      "Vehicle Class                 object\n",
      "Total Claim Amount           float64\n",
      "dtype: object\n"
     ]
    }
   ],
   "source": [
    "#2.Determine the data types of each column and evaluate whether they are appropriate for the nature of the variable. \n",
    "#You should also provide suggestions for fixing any incorrect data types\n",
    "print(df.dtypes)\n"
   ]
  },
  {
   "cell_type": "markdown",
   "id": "4353a771-c5f5-4e0d-9584-2ba5922ba9f9",
   "metadata": {},
   "source": [
    "The columns Customer Lifetime Value and Number of Open Complaints should be numerical to analyze them better. We won't include them in this analysis because of this"
   ]
  },
  {
   "cell_type": "code",
   "execution_count": 46,
   "id": "49ee2e1b-be1c-4841-b15c-2b1342669a7c",
   "metadata": {},
   "outputs": [
    {
     "name": "stdout",
     "output_type": "stream",
     "text": [
      "Number of unique values:\n",
      "Customer                     1071\n",
      "ST                              8\n",
      "GENDER                          5\n",
      "Education                       6\n",
      "Customer Lifetime Value      1027\n",
      "Income                        774\n",
      "Monthly Premium Auto          132\n",
      "Number of Open Complaints       6\n",
      "Policy Type                     3\n",
      "Vehicle Class                   6\n",
      "Total Claim Amount            761\n",
      "dtype: int64\n"
     ]
    }
   ],
   "source": [
    "#3.Identify the number of unique values for each column \n",
    "\n",
    "print(\"Number of unique values:\")\n",
    "print(df.nunique())"
   ]
  },
  {
   "cell_type": "code",
   "execution_count": 161,
   "id": "a3005fcd-b0bf-4372-ba8d-3feadc8a7ffc",
   "metadata": {},
   "outputs": [
    {
     "name": "stdout",
     "output_type": "stream",
     "text": [
      "Categorical columns are:\n",
      "The nunique value for ST is: 8\n",
      "The nunique value for GENDER is: 5\n",
      "The nunique value for Education is: 6\n",
      "The nunique value for Number of Open Complaints is: 6\n",
      "The nunique value for Policy Type is: 3\n",
      "The nunique value for Vehicle Class is: 6\n"
     ]
    }
   ],
   "source": [
    "#3.1 determine which columns appear to be categorical.\n",
    "columns_cat=[\"ST\",\"GENDER\",\"Education\",\"Number of Open Complaints\",\"Policy Type\",\"Vehicle Class\"]\n",
    "print(\"Categorical columns and nunique value of each are:\")\n",
    "for i in columns_cat:\n",
    "    print(f\"The nunique value for {i} is: {df[i].nunique()}\")\n",
    "    \n"
   ]
  },
  {
   "cell_type": "code",
   "execution_count": 153,
   "id": "9a646cc0-50a7-4c90-9bd5-611ff938ca5d",
   "metadata": {},
   "outputs": [
    {
     "data": {
      "text/plain": [
       "GENDER\n",
       "F         457\n",
       "M         413\n",
       "Male       39\n",
       "female     28\n",
       "Femal      17\n",
       "Name: count, dtype: int64"
      ]
     },
     "execution_count": 153,
     "metadata": {},
     "output_type": "execute_result"
    }
   ],
   "source": [
    "df[\"GENDER\"].value_counts()\n"
   ]
  },
  {
   "cell_type": "markdown",
   "id": "88cfd84f-f90c-4bd0-ab58-738a5f4afa95",
   "metadata": {},
   "source": [
    "There are 5 type of gender, wich is probably an error of input by the user.\n"
   ]
  },
  {
   "cell_type": "code",
   "execution_count": 68,
   "id": "3c212df5-8e1d-41b5-ab1c-5a1afe83d27d",
   "metadata": {},
   "outputs": [
    {
     "name": "stdout",
     "output_type": "stream",
     "text": [
      "Unique values for ST:\n",
      "['Washington' 'Arizona' 'Nevada' 'California' 'Oregon' 'Cali' 'AZ' 'WA'\n",
      " nan]\n",
      "Unique values for GENDER:\n",
      "[nan 'F' 'M' 'Femal' 'Male' 'female']\n",
      "Unique values for Education:\n",
      "['Master' 'Bachelor' 'High School or Below' 'College' 'Bachelors' 'Doctor'\n",
      " nan]\n",
      "Unique values for Number of Open Complaints:\n",
      "['1/0/00' '1/2/00' '1/1/00' '1/3/00' '1/5/00' '1/4/00' nan]\n",
      "Unique values for Policy Type:\n",
      "['Personal Auto' 'Corporate Auto' 'Special Auto' nan]\n",
      "Unique values for Vehicle Class:\n",
      "['Four-Door Car' 'Two-Door Car' 'SUV' 'Luxury SUV' 'Sports Car'\n",
      " 'Luxury Car' nan]\n"
     ]
    }
   ],
   "source": [
    "#3.1 You should also describe the unique values of each categorical column \n",
    "for column in columns_cat:\n",
    "    unique_values = df[column].unique()\n",
    "    print(f\"Unique values for {column}:\")\n",
    "    print(unique_values)"
   ]
  },
  {
   "cell_type": "code",
   "execution_count": 126,
   "id": "29e6fc3e-a952-4071-8f0b-b0bdb64fc22a",
   "metadata": {},
   "outputs": [
    {
     "name": "stdout",
     "output_type": "stream",
     "text": [
      "Numerical columns are:\n",
      "Income\n",
      "Monthly Premium Auto\n",
      "Total Claim Amount\n"
     ]
    }
   ],
   "source": [
    "#3.2 the range of values for numerical columns, and give your insights.\n",
    "columns_num=[\"Income\",\"Monthly Premium Auto\",\"Total Claim Amount\"]\n",
    "print(\"Numerical columns are:\")\n",
    "for i in columns_num:\n",
    "    print(i)\n"
   ]
  },
  {
   "cell_type": "code",
   "execution_count": 128,
   "id": "b1ff1e30-c6b9-4d2a-a490-b7bc7ca3e316",
   "metadata": {},
   "outputs": [
    {
     "name": "stdout",
     "output_type": "stream",
     "text": [
      "The nunique value of each numerical columns is:\n",
      " Income: 774\n",
      " Monthly Premium Auto: 132\n",
      " Total Claim Amount: 761\n"
     ]
    }
   ],
   "source": [
    "#3.2\n",
    "print(\"The nunique value of each numerical columns is:\")\n",
    "for col in columns_num:\n",
    "    print(f\" {col}: {df[col].nunique()}\")\n",
    "  "
   ]
  },
  {
   "cell_type": "code",
   "execution_count": 134,
   "id": "56c74d02-42fc-403a-b2f4-1d10c952e3d8",
   "metadata": {},
   "outputs": [
    {
     "data": {
      "text/plain": [
       "35293.0"
      ]
     },
     "execution_count": 134,
     "metadata": {},
     "output_type": "execute_result"
    }
   ],
   "source": [
    "range = (df['Monthly Premium Auto'].max()- df['Monthly Premium Auto'].min())\n",
    "range"
   ]
  },
  {
   "cell_type": "code",
   "execution_count": 136,
   "id": "47192071-144f-48d3-8a33-405af3444c4f",
   "metadata": {},
   "outputs": [
    {
     "data": {
      "text/plain": [
       "2892.857571"
      ]
     },
     "execution_count": 136,
     "metadata": {},
     "output_type": "execute_result"
    }
   ],
   "source": [
    "range2 = (df['Total Claim Amount'].max()- df['Total Claim Amount'].min())\n",
    "range2"
   ]
  },
  {
   "cell_type": "code",
   "execution_count": 138,
   "id": "734890b6-1d6c-4de1-a777-5779344c6a15",
   "metadata": {},
   "outputs": [
    {
     "data": {
      "text/plain": [
       "99960.0"
      ]
     },
     "execution_count": 138,
     "metadata": {},
     "output_type": "execute_result"
    }
   ],
   "source": [
    "range3 = (df['Income'].max()- df['Income'].min())\n",
    "range3"
   ]
  },
  {
   "cell_type": "code",
   "execution_count": 99,
   "id": "f4423ea8-674a-4719-9366-1cdc952fad41",
   "metadata": {},
   "outputs": [
    {
     "data": {
      "text/html": [
       "<div>\n",
       "<style scoped>\n",
       "    .dataframe tbody tr th:only-of-type {\n",
       "        vertical-align: middle;\n",
       "    }\n",
       "\n",
       "    .dataframe tbody tr th {\n",
       "        vertical-align: top;\n",
       "    }\n",
       "\n",
       "    .dataframe thead th {\n",
       "        text-align: right;\n",
       "    }\n",
       "</style>\n",
       "<table border=\"1\" class=\"dataframe\">\n",
       "  <thead>\n",
       "    <tr style=\"text-align: right;\">\n",
       "      <th></th>\n",
       "      <th>Income</th>\n",
       "      <th>Monthly Premium Auto</th>\n",
       "      <th>Total Claim Amount</th>\n",
       "    </tr>\n",
       "  </thead>\n",
       "  <tbody>\n",
       "    <tr>\n",
       "      <th>count</th>\n",
       "      <td>1071.000000</td>\n",
       "      <td>1071.000000</td>\n",
       "      <td>1071.000000</td>\n",
       "    </tr>\n",
       "    <tr>\n",
       "      <th>mean</th>\n",
       "      <td>39295.701214</td>\n",
       "      <td>193.234360</td>\n",
       "      <td>404.986909</td>\n",
       "    </tr>\n",
       "    <tr>\n",
       "      <th>std</th>\n",
       "      <td>30469.427060</td>\n",
       "      <td>1601.190369</td>\n",
       "      <td>293.027260</td>\n",
       "    </tr>\n",
       "    <tr>\n",
       "      <th>min</th>\n",
       "      <td>0.000000</td>\n",
       "      <td>61.000000</td>\n",
       "      <td>0.382107</td>\n",
       "    </tr>\n",
       "    <tr>\n",
       "      <th>25%</th>\n",
       "      <td>14072.000000</td>\n",
       "      <td>68.000000</td>\n",
       "      <td>202.157702</td>\n",
       "    </tr>\n",
       "    <tr>\n",
       "      <th>50%</th>\n",
       "      <td>36234.000000</td>\n",
       "      <td>83.000000</td>\n",
       "      <td>354.729129</td>\n",
       "    </tr>\n",
       "    <tr>\n",
       "      <th>75%</th>\n",
       "      <td>64631.000000</td>\n",
       "      <td>109.500000</td>\n",
       "      <td>532.800000</td>\n",
       "    </tr>\n",
       "    <tr>\n",
       "      <th>max</th>\n",
       "      <td>99960.000000</td>\n",
       "      <td>35354.000000</td>\n",
       "      <td>2893.239678</td>\n",
       "    </tr>\n",
       "  </tbody>\n",
       "</table>\n",
       "</div>"
      ],
      "text/plain": [
       "             Income  Monthly Premium Auto  Total Claim Amount\n",
       "count   1071.000000           1071.000000         1071.000000\n",
       "mean   39295.701214            193.234360          404.986909\n",
       "std    30469.427060           1601.190369          293.027260\n",
       "min        0.000000             61.000000            0.382107\n",
       "25%    14072.000000             68.000000          202.157702\n",
       "50%    36234.000000             83.000000          354.729129\n",
       "75%    64631.000000            109.500000          532.800000\n",
       "max    99960.000000          35354.000000         2893.239678"
      ]
     },
     "execution_count": 99,
     "metadata": {},
     "output_type": "execute_result"
    }
   ],
   "source": [
    "#4.Compute summary statistics such as mean, median, mode, standard deviation, and quartiles to understand the central tendency \n",
    "#and distribution of the data for numerical columns. You should also provide your conclusions based on these summary \n",
    "#statistics.\n",
    "df.describe()"
   ]
  },
  {
   "cell_type": "markdown",
   "id": "ba48c809-6931-4058-ae0d-c2f74a0afec7",
   "metadata": {},
   "source": [
    "Conclusion:\n",
    "\n",
    "-The average client income is $39,295, which is slightly higher than the median ($36,234), indicating a wide range of client incomes, with some earning as little as zero and others up to $99,960.\n",
    "-There is also a significant difference in the monthly auto premium fee, with a mean of $193 and a median of $83, compared to a maximum premium fee of $35,354.\n",
    "-The claim amount doesn't appear to be very relevant, as 75% of clients paid $533 or less, while the maximum claim was $2,893, suggesting that claims are relatively infrequent."
   ]
  },
  {
   "cell_type": "code",
   "execution_count": 130,
   "id": "32a42a50-6aca-450c-b2df-05790d2b67a2",
   "metadata": {},
   "outputs": [
    {
     "name": "stdout",
     "output_type": "stream",
     "text": [
      "ST\n",
      "Oregon        320\n",
      "California    211\n",
      "Arizona       186\n",
      "Cali          120\n",
      "Nevada         98\n",
      "Washington     81\n",
      "WA             30\n",
      "AZ             25\n",
      "Name: count, dtype: int64\n",
      "\n",
      "GENDER\n",
      "F         457\n",
      "M         413\n",
      "Male       39\n",
      "female     28\n",
      "Femal      17\n",
      "Name: count, dtype: int64\n",
      "\n",
      "Education\n",
      "Bachelor                324\n",
      "College                 313\n",
      "High School or Below    296\n",
      "Master                   94\n",
      "Doctor                   37\n",
      "Bachelors                 7\n",
      "Name: count, dtype: int64\n",
      "\n",
      "Number of Open Complaints\n",
      "1/0/00    830\n",
      "1/1/00    138\n",
      "1/2/00     50\n",
      "1/3/00     34\n",
      "1/4/00     13\n",
      "1/5/00      6\n",
      "Name: count, dtype: int64\n",
      "\n",
      "Policy Type\n",
      "Personal Auto     780\n",
      "Corporate Auto    234\n",
      "Special Auto       57\n",
      "Name: count, dtype: int64\n",
      "\n",
      "Vehicle Class\n",
      "Four-Door Car    576\n",
      "Two-Door Car     205\n",
      "SUV              199\n",
      "Sports Car        57\n",
      "Luxury SUV        20\n",
      "Luxury Car        14\n",
      "Name: count, dtype: int64\n",
      "\n"
     ]
    }
   ],
   "source": [
    "#5.Compute summary statistics for categorical columns and providing your conclusions based on these statistics.\n",
    "for column in columns_cat:\n",
    "    frequency_counts = df[column].value_counts()\n",
    "    print(frequency_counts)\n",
    "    print()"
   ]
  },
  {
   "cell_type": "code",
   "execution_count": 172,
   "id": "1ea20c5e-a1d9-4bdd-b069-3664c55a2311",
   "metadata": {},
   "outputs": [
    {
     "data": {
      "text/html": [
       "<div>\n",
       "<style scoped>\n",
       "    .dataframe tbody tr th:only-of-type {\n",
       "        vertical-align: middle;\n",
       "    }\n",
       "\n",
       "    .dataframe tbody tr th {\n",
       "        vertical-align: top;\n",
       "    }\n",
       "\n",
       "    .dataframe thead th {\n",
       "        text-align: right;\n",
       "    }\n",
       "</style>\n",
       "<table border=\"1\" class=\"dataframe\">\n",
       "  <thead>\n",
       "    <tr style=\"text-align: right;\">\n",
       "      <th></th>\n",
       "      <th>ST</th>\n",
       "      <th>GENDER</th>\n",
       "      <th>Education</th>\n",
       "      <th>Number of Open Complaints</th>\n",
       "      <th>Policy Type</th>\n",
       "      <th>Vehicle Class</th>\n",
       "    </tr>\n",
       "  </thead>\n",
       "  <tbody>\n",
       "    <tr>\n",
       "      <th>count</th>\n",
       "      <td>1071</td>\n",
       "      <td>954</td>\n",
       "      <td>1071</td>\n",
       "      <td>1071</td>\n",
       "      <td>1071</td>\n",
       "      <td>1071</td>\n",
       "    </tr>\n",
       "    <tr>\n",
       "      <th>unique</th>\n",
       "      <td>8</td>\n",
       "      <td>5</td>\n",
       "      <td>6</td>\n",
       "      <td>6</td>\n",
       "      <td>3</td>\n",
       "      <td>6</td>\n",
       "    </tr>\n",
       "    <tr>\n",
       "      <th>top</th>\n",
       "      <td>Oregon</td>\n",
       "      <td>F</td>\n",
       "      <td>Bachelor</td>\n",
       "      <td>1/0/00</td>\n",
       "      <td>Personal Auto</td>\n",
       "      <td>Four-Door Car</td>\n",
       "    </tr>\n",
       "    <tr>\n",
       "      <th>freq</th>\n",
       "      <td>320</td>\n",
       "      <td>457</td>\n",
       "      <td>324</td>\n",
       "      <td>830</td>\n",
       "      <td>780</td>\n",
       "      <td>576</td>\n",
       "    </tr>\n",
       "  </tbody>\n",
       "</table>\n",
       "</div>"
      ],
      "text/plain": [
       "            ST GENDER Education Number of Open Complaints    Policy Type  \\\n",
       "count     1071    954      1071                      1071           1071   \n",
       "unique       8      5         6                         6              3   \n",
       "top     Oregon      F  Bachelor                    1/0/00  Personal Auto   \n",
       "freq       320    457       324                       830            780   \n",
       "\n",
       "        Vehicle Class  \n",
       "count            1071  \n",
       "unique              6  \n",
       "top     Four-Door Car  \n",
       "freq              576  "
      ]
     },
     "execution_count": 172,
     "metadata": {},
     "output_type": "execute_result"
    }
   ],
   "source": [
    "df[columns_cat].describe()"
   ]
  },
  {
   "cell_type": "markdown",
   "id": "090b51d1-ff74-427f-b7dd-5411031b4845",
   "metadata": {},
   "source": [
    "Conclusion:\n",
    "\n",
    "-The majority of clients are women, accounting for 53%, while 47% are men.\n",
    "-Most clients are from Oregon (30%), followed by California (20%). The least represented state is Arizona, with only 2% of clients.\n",
    "-The client's education levels are predominantly bachelor's degrees (30%), followed by college (29%) and high school (28%).\n",
    "-73% of clients use this insurance for their personal cars, with the most common type of car being a four-door vehicle."
   ]
  },
  {
   "cell_type": "markdown",
   "id": "4a703890-63db-4944-b7ab-95a4f8185120",
   "metadata": {},
   "source": [
    "## Challenge 2: analyzing the data"
   ]
  },
  {
   "cell_type": "markdown",
   "id": "0776a403-c56a-452f-ac33-5fd4fdb06fc7",
   "metadata": {},
   "source": [
    "### Exercise 1"
   ]
  },
  {
   "cell_type": "markdown",
   "id": "eedbc484-da4d-4f9c-9343-e1d44311a87e",
   "metadata": {},
   "source": [
    "The marketing team wants to know the top 5 less common customer locations. Create a pandas Series object that contains the customer locations and their frequencies, and then retrieve the top 5 less common locations in ascending order."
   ]
  },
  {
   "cell_type": "code",
   "execution_count": 264,
   "id": "d6dd2581-653e-40a6-9d4d-1673109998f6",
   "metadata": {},
   "outputs": [
    {
     "name": "stdout",
     "output_type": "stream",
     "text": [
      "The last 5 locations were not assigned, the location incated is: \n",
      "4003    NaN\n",
      "4004    NaN\n",
      "4005    NaN\n",
      "4006    NaN\n",
      "4007    NaN\n",
      "Name: ST, dtype: object\n"
     ]
    }
   ],
   "source": [
    "st_series=df['ST']\n",
    "location=st_series[-5:]\n",
    "#print(location)\n",
    "print(f\"The last 5 locations were not assigned, the location incated is: \\n{location}\")"
   ]
  },
  {
   "cell_type": "code",
   "execution_count": 270,
   "id": "83a6b82a-27a8-4a1a-9fbb-f72b4de1786e",
   "metadata": {},
   "outputs": [
    {
     "data": {
      "text/plain": [
       "ST\n",
       "Oregon        320\n",
       "California    211\n",
       "Arizona       186\n",
       "Cali          120\n",
       "Nevada         98\n",
       "Washington     81\n",
       "WA             30\n",
       "AZ             25\n",
       "Name: count, dtype: int64"
      ]
     },
     "execution_count": 270,
     "metadata": {},
     "output_type": "execute_result"
    }
   ],
   "source": [
    "st_series.value_counts()"
   ]
  },
  {
   "cell_type": "markdown",
   "id": "0ce80f43-4afa-43c7-a78a-c917444da4e0",
   "metadata": {},
   "source": [
    "### Exercise 2\n",
    "\n",
    "The sales team wants to know the total number of policies sold for each type of policy. Create a pandas Series object that contains the policy types and their total number of policies sold, and then retrieve the policy type with the highest number of policies sold."
   ]
  },
  {
   "cell_type": "markdown",
   "id": "a9f13997-1555-4f98-aca6-970fda1d2c3f",
   "metadata": {},
   "source": [
    "*Hint:*\n",
    "- *Using value_counts() method simplifies this analysis.*\n",
    "- *Futhermore, there is a method that returns the index of the maximum value in a column or row.*\n"
   ]
  },
  {
   "cell_type": "code",
   "execution_count": 282,
   "id": "27e55195-9e1f-44a0-a017-be8d4f0ad6db",
   "metadata": {},
   "outputs": [
    {
     "name": "stdout",
     "output_type": "stream",
     "text": [
      "0        Personal Auto\n",
      "1        Personal Auto\n",
      "2        Personal Auto\n",
      "3       Corporate Auto\n",
      "4        Personal Auto\n",
      "             ...      \n",
      "4003               NaN\n",
      "4004               NaN\n",
      "4005               NaN\n",
      "4006               NaN\n",
      "4007               NaN\n",
      "Name: Policy Type, Length: 4008, dtype: object\n"
     ]
    }
   ],
   "source": [
    "#Create a pandas Series object that contains the policy types \n",
    "policy_series=df['Policy Type']\n",
    "print(policy_series)"
   ]
  },
  {
   "cell_type": "code",
   "execution_count": 288,
   "id": "ab1b8b48-5771-4556-9bea-1c3acdf6a1f3",
   "metadata": {},
   "outputs": [
    {
     "data": {
      "text/plain": [
       "Policy Type\n",
       "Personal Auto     780\n",
       "Corporate Auto    234\n",
       "Special Auto       57\n",
       "Name: count, dtype: int64"
      ]
     },
     "execution_count": 288,
     "metadata": {},
     "output_type": "execute_result"
    }
   ],
   "source": [
    "#their total number of policies sold\n",
    "policy_series.value_counts()\n"
   ]
  },
  {
   "cell_type": "code",
   "execution_count": 301,
   "id": "eb952722-b88a-4aac-bac3-6f911369af9e",
   "metadata": {},
   "outputs": [
    {
     "name": "stdout",
     "output_type": "stream",
     "text": [
      "The highest number of policies sold is:  Personal Auto\n"
     ]
    }
   ],
   "source": [
    "#retrieve the policy type with the highest number of policies sold\n",
    "highest_policy=policy_series.value_counts().idxmax()\n",
    "print(\"The highest number of policies sold is: \",highest_policy)"
   ]
  },
  {
   "cell_type": "markdown",
   "id": "0b863fd3-bf91-4d5d-86eb-be29ed9f5b70",
   "metadata": {},
   "source": [
    "### Exercise 3\n",
    "\n",
    "The sales team wants to know if customers with Personal Auto have a lower income than those with Corporate Auto. How does the average income compare between the two policy types?"
   ]
  },
  {
   "cell_type": "markdown",
   "id": "b1386d75-2810-4aa1-93e0-9485aa12d552",
   "metadata": {},
   "source": [
    "- Use *loc* to create two dataframes: one containing only Personal Auto policies and one containing only Corporate Auto policies.\n",
    "- Calculate the average income for each policy.\n",
    "- Print the results."
   ]
  },
  {
   "cell_type": "code",
   "execution_count": 395,
   "id": "eecd131e-e2ee-419a-9eb2-30e0283eb452",
   "metadata": {},
   "outputs": [],
   "source": [
    "#Use loc to create two dataframes: one containing only Personal Auto policies and one containing only Corporate Auto policies.\n",
    "personal_auto_income = df.loc[df['Policy Type'] == 'Personal Auto', 'Income']\n",
    "corporate_auto_income = df.loc[df['Policy Type'] == 'Corporate Auto', 'Income']"
   ]
  },
  {
   "cell_type": "code",
   "execution_count": 397,
   "id": "0c0563cf-6f8b-463d-a321-651a972f82e5",
   "metadata": {},
   "outputs": [
    {
     "name": "stdout",
     "output_type": "stream",
     "text": [
      "38181\n",
      "41390\n"
     ]
    }
   ],
   "source": [
    "average_personal_auto=round(personal_auto_income.mean())\n",
    "print(average_personal_auto)\n",
    "average_corporate_auto=round(corporate_auto_income.mean())\n",
    "print(average_corporate_auto)"
   ]
  },
  {
   "cell_type": "code",
   "execution_count": 399,
   "id": "a8d57947-629c-41cf-a5f7-542cd29065b1",
   "metadata": {},
   "outputs": [
    {
     "name": "stdout",
     "output_type": "stream",
     "text": [
      "Clients with personal auto has lower average income than the corporate auto, it's average is: 38181, compare to corporate with 41390 of average\n"
     ]
    }
   ],
   "source": [
    "if average_personal_auto<average_corporate_auto:\n",
    "    print(f\"Clients with personal auto has lower average income than the corporate auto, it's average is: {average_personal_auto}, compare to corporate with {average_corporate_auto} of average\")\n",
    "else:\n",
    "    print(f\"Clients with personal auto has higher average income than the corporate auto, it's average is: {average_personal_auto}, compare to corporate with {average_corporate_auto} of average\")"
   ]
  },
  {
   "cell_type": "markdown",
   "id": "80b16c27-f4a5-4727-a229-1f88671cf4e2",
   "metadata": {},
   "source": [
    "### Bonus: Exercise 4\n"
   ]
  },
  {
   "cell_type": "markdown",
   "id": "ac584986-299b-475f-ac2e-928c16c3f512",
   "metadata": {},
   "source": [
    "Your goal is to identify customers with a high policy claim amount.\n",
    "\n",
    "Instructions:\n",
    "\n",
    "- Review again the statistics for total claim amount to gain an understanding of the data.\n",
    "- To identify potential areas for improving customer retention and profitability, we want to focus on customers with a high policy claim amount. Consider customers with a high policy claim amount to be those in the top 25% of the total claim amount. Create a pandas DataFrame object that contains information about customers with a policy claim amount greater than the 75th percentile.\n",
    "- Use DataFrame methods to calculate summary statistics about the high policy claim amount data. "
   ]
  },
  {
   "cell_type": "markdown",
   "id": "4e3af5f1-6023-4b05-9c01-d05392daa650",
   "metadata": {},
   "source": [
    "*Note: When analyzing data, we often want to focus on certain groups of values to gain insights. Percentiles are a useful tool to help us define these groups. A percentile is a measure that tells us what percentage of values in a dataset are below a certain value. For example, the 75th percentile represents the value below which 75% of the data falls. Similarly, the 25th percentile represents the value below which 25% of the data falls. When we talk about the top 25%, we are referring to the values that fall above the 75th percentile, which represent the top quarter of the data. On the other hand, when we talk about the bottom 25%, we are referring to the values that fall below the 25th percentile, which represent the bottom quarter of the data. By focusing on these groups, we can identify patterns and trends that may be useful for making decisions and taking action.*\n",
    "\n",
    "*Hint: look for a method that gives you the percentile or quantile 0.75 and 0.25 for a Pandas Series.*"
   ]
  },
  {
   "cell_type": "markdown",
   "id": "2d234634-50bd-41e0-88f7-d5ba684455d1",
   "metadata": {},
   "source": [
    "*Hint 2: check `Boolean selection according to the values of a single column` in https://towardsdatascience.com/filtering-data-frames-in-pandas-b570b1f834b9*"
   ]
  },
  {
   "cell_type": "code",
   "execution_count": null,
   "id": "422eaa9a-0c2d-426e-a8a0-ef364d6cbcea",
   "metadata": {},
   "outputs": [],
   "source": [
    "df['fQZ44356']"
   ]
  },
  {
   "cell_type": "code",
   "execution_count": 412,
   "id": "98051b99-e9e9-4c6c-a292-ce6ce371f57b",
   "metadata": {},
   "outputs": [
    {
     "data": {
      "text/html": [
       "<div>\n",
       "<style scoped>\n",
       "    .dataframe tbody tr th:only-of-type {\n",
       "        vertical-align: middle;\n",
       "    }\n",
       "\n",
       "    .dataframe tbody tr th {\n",
       "        vertical-align: top;\n",
       "    }\n",
       "\n",
       "    .dataframe thead th {\n",
       "        text-align: right;\n",
       "    }\n",
       "</style>\n",
       "<table border=\"1\" class=\"dataframe\">\n",
       "  <thead>\n",
       "    <tr style=\"text-align: right;\">\n",
       "      <th></th>\n",
       "      <th>Total Claim Amount</th>\n",
       "      <th>Customer</th>\n",
       "    </tr>\n",
       "  </thead>\n",
       "  <tbody>\n",
       "    <tr>\n",
       "      <th>0</th>\n",
       "      <td>2.704934</td>\n",
       "      <td>RB50392</td>\n",
       "    </tr>\n",
       "    <tr>\n",
       "      <th>1</th>\n",
       "      <td>1131.464935</td>\n",
       "      <td>QZ44356</td>\n",
       "    </tr>\n",
       "    <tr>\n",
       "      <th>2</th>\n",
       "      <td>566.472247</td>\n",
       "      <td>AI49188</td>\n",
       "    </tr>\n",
       "    <tr>\n",
       "      <th>3</th>\n",
       "      <td>529.881344</td>\n",
       "      <td>WW63253</td>\n",
       "    </tr>\n",
       "    <tr>\n",
       "      <th>4</th>\n",
       "      <td>17.269323</td>\n",
       "      <td>GA49547</td>\n",
       "    </tr>\n",
       "    <tr>\n",
       "      <th>...</th>\n",
       "      <td>...</td>\n",
       "      <td>...</td>\n",
       "    </tr>\n",
       "    <tr>\n",
       "      <th>4003</th>\n",
       "      <td>NaN</td>\n",
       "      <td>NaN</td>\n",
       "    </tr>\n",
       "    <tr>\n",
       "      <th>4004</th>\n",
       "      <td>NaN</td>\n",
       "      <td>NaN</td>\n",
       "    </tr>\n",
       "    <tr>\n",
       "      <th>4005</th>\n",
       "      <td>NaN</td>\n",
       "      <td>NaN</td>\n",
       "    </tr>\n",
       "    <tr>\n",
       "      <th>4006</th>\n",
       "      <td>NaN</td>\n",
       "      <td>NaN</td>\n",
       "    </tr>\n",
       "    <tr>\n",
       "      <th>4007</th>\n",
       "      <td>NaN</td>\n",
       "      <td>NaN</td>\n",
       "    </tr>\n",
       "  </tbody>\n",
       "</table>\n",
       "<p>4008 rows × 2 columns</p>\n",
       "</div>"
      ],
      "text/plain": [
       "      Total Claim Amount Customer\n",
       "0               2.704934  RB50392\n",
       "1            1131.464935  QZ44356\n",
       "2             566.472247  AI49188\n",
       "3             529.881344  WW63253\n",
       "4              17.269323  GA49547\n",
       "...                  ...      ...\n",
       "4003                 NaN      NaN\n",
       "4004                 NaN      NaN\n",
       "4005                 NaN      NaN\n",
       "4006                 NaN      NaN\n",
       "4007                 NaN      NaN\n",
       "\n",
       "[4008 rows x 2 columns]"
      ]
     },
     "execution_count": 412,
     "metadata": {},
     "output_type": "execute_result"
    }
   ],
   "source": [
    "tca_customer=df[['Total Claim Amount','Customer']]\n",
    "tca_customer"
   ]
  },
  {
   "cell_type": "code",
   "execution_count": 418,
   "id": "2aa60996-cafa-472c-9add-ec9d30e24f74",
   "metadata": {},
   "outputs": [
    {
     "data": {
      "text/html": [
       "<div>\n",
       "<style scoped>\n",
       "    .dataframe tbody tr th:only-of-type {\n",
       "        vertical-align: middle;\n",
       "    }\n",
       "\n",
       "    .dataframe tbody tr th {\n",
       "        vertical-align: top;\n",
       "    }\n",
       "\n",
       "    .dataframe thead th {\n",
       "        text-align: right;\n",
       "    }\n",
       "</style>\n",
       "<table border=\"1\" class=\"dataframe\">\n",
       "  <thead>\n",
       "    <tr style=\"text-align: right;\">\n",
       "      <th></th>\n",
       "      <th>Total Claim Amount</th>\n",
       "      <th>Customer</th>\n",
       "    </tr>\n",
       "  </thead>\n",
       "  <tbody>\n",
       "    <tr>\n",
       "      <th>4003</th>\n",
       "      <td>NaN</td>\n",
       "      <td>NaN</td>\n",
       "    </tr>\n",
       "    <tr>\n",
       "      <th>4004</th>\n",
       "      <td>NaN</td>\n",
       "      <td>NaN</td>\n",
       "    </tr>\n",
       "    <tr>\n",
       "      <th>4005</th>\n",
       "      <td>NaN</td>\n",
       "      <td>NaN</td>\n",
       "    </tr>\n",
       "    <tr>\n",
       "      <th>4006</th>\n",
       "      <td>NaN</td>\n",
       "      <td>NaN</td>\n",
       "    </tr>\n",
       "    <tr>\n",
       "      <th>4007</th>\n",
       "      <td>NaN</td>\n",
       "      <td>NaN</td>\n",
       "    </tr>\n",
       "  </tbody>\n",
       "</table>\n",
       "</div>"
      ],
      "text/plain": [
       "      Total Claim Amount Customer\n",
       "4003                 NaN      NaN\n",
       "4004                 NaN      NaN\n",
       "4005                 NaN      NaN\n",
       "4006                 NaN      NaN\n",
       "4007                 NaN      NaN"
      ]
     },
     "execution_count": 418,
     "metadata": {},
     "output_type": "execute_result"
    }
   ],
   "source": [
    "tca_customer[-5:]"
   ]
  },
  {
   "cell_type": "code",
   "execution_count": 487,
   "id": "b731bca6-a760-4860-a27b-a33efa712ce0",
   "metadata": {},
   "outputs": [
    {
     "name": "stdout",
     "output_type": "stream",
     "text": [
      "The customer with high policy claims amounts are :\n",
      "      Customer          ST GENDER Education Customer Lifetime Value   Income  \\\n",
      "1     QZ44356     Arizona      F  Bachelor              697953.59%      0.0   \n",
      "2     AI49188      Nevada      F  Bachelor             1288743.17%  48767.0   \n",
      "17    OE15005        Cali    NaN   College              394524.16%  28855.0   \n",
      "23    TZ98966      Nevada    NaN  Bachelor              245019.10%      0.0   \n",
      "26    US89481  California    NaN  Bachelor              394637.21%      0.0   \n",
      "...       ...         ...    ...       ...                     ...      ...   \n",
      "1059  YG44474      Oregon      M   College             1401472.13%  54193.0   \n",
      "1061  RY92647        Cali      F  Bachelor             1050677.17%      0.0   \n",
      "1068  GS98873     Arizona      F  Bachelor              323912.47%  16061.0   \n",
      "1069  CW49887  California      F    Master              462680.11%  79487.0   \n",
      "1070  MY31220  California      F   College              899704.02%  54230.0   \n",
      "\n",
      "      Monthly Premium Auto Number of Open Complaints     Policy Type  \\\n",
      "1                     94.0                    1/0/00   Personal Auto   \n",
      "2                    108.0                    1/0/00   Personal Auto   \n",
      "17                   101.0                    1/0/00   Personal Auto   \n",
      "23                    73.0                    1/3/00  Corporate Auto   \n",
      "26                   111.0                    1/0/00   Personal Auto   \n",
      "...                    ...                       ...             ...   \n",
      "1059                 117.0                    1/0/00  Corporate Auto   \n",
      "1061                  92.0                    1/0/00   Personal Auto   \n",
      "1068                  88.0                    1/0/00   Personal Auto   \n",
      "1069                 114.0                    1/0/00    Special Auto   \n",
      "1070                 112.0                    1/0/00   Personal Auto   \n",
      "\n",
      "      Vehicle Class  Total Claim Amount  \n",
      "1     Four-Door Car         1131.464935  \n",
      "2      Two-Door Car          566.472247  \n",
      "17              SUV          647.442031  \n",
      "23    Four-Door Car          554.376763  \n",
      "26    Four-Door Car          799.200000  \n",
      "...             ...                 ...  \n",
      "1059            SUV          720.752945  \n",
      "1061  Four-Door Car          546.524896  \n",
      "1068  Four-Door Car          633.600000  \n",
      "1069            SUV          547.200000  \n",
      "1070   Two-Door Car          537.600000  \n",
      "\n",
      "[264 rows x 11 columns]\n",
      "The statistics of those customer are:\n",
      "              Income  Monthly Premium Auto  Total Claim Amount\n",
      "count    264.000000            264.000000          264.000000\n",
      "mean   23677.344697            165.193182          782.228263\n",
      "std    27013.483721            623.930992          292.751640\n",
      "min        0.000000             63.000000          537.600000\n",
      "25%        0.000000             99.000000          606.521741\n",
      "50%    18807.000000            114.000000          679.597985\n",
      "75%    42423.750000            133.250000          851.400000\n",
      "max    99316.000000          10202.000000         2893.239678\n"
     ]
    }
   ],
   "source": [
    "per75=df[df['Total Claim Amount']>df['Total Claim Amount'].quantile(0.75)]\n",
    "print(f\"The customer with high policy claims amounts are :\\n {per75}\")\n",
    "print(f\"The statistics of those customer are:\\n {per75.describe()}\")\n",
    "\n"
   ]
  }
 ],
 "metadata": {
  "kernelspec": {
   "display_name": "Python 3 (ipykernel)",
   "language": "python",
   "name": "python3"
  },
  "language_info": {
   "codemirror_mode": {
    "name": "ipython",
    "version": 3
   },
   "file_extension": ".py",
   "mimetype": "text/x-python",
   "name": "python",
   "nbconvert_exporter": "python",
   "pygments_lexer": "ipython3",
   "version": "3.12.4"
  }
 },
 "nbformat": 4,
 "nbformat_minor": 5
}
